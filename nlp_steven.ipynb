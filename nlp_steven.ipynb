{
 "cells": [
  {
   "cell_type": "code",
   "execution_count": 1,
   "metadata": {},
   "outputs": [],
   "source": [
    "import pandas as pd\n",
    "from requests import get\n",
    "from bs4 import BeautifulSoup\n",
    "import os\n",
    "import path\n",
    "import re\n",
    "\n",
    "import unicodedata\n",
    "import re\n",
    "import json\n",
    "\n",
    "import nltk\n",
    "from nltk.tokenize.toktok import ToktokTokenizer\n",
    "from nltk.corpus import stopwords\n",
    "\n"
   ]
  },
  {
   "cell_type": "code",
   "execution_count": null,
   "metadata": {},
   "outputs": [],
   "source": []
  },
  {
   "cell_type": "code",
   "execution_count": 57,
   "metadata": {},
   "outputs": [
    {
     "name": "stdout",
     "output_type": "stream",
     "text": [
      "<span class=\"lang\">C++</span>\n"
     ]
    },
    {
     "data": {
      "text/plain": [
       "'C++'"
      ]
     },
     "execution_count": 57,
     "metadata": {},
     "output_type": "execute_result"
    }
   ],
   "source": [
    "url = 'https://github.com/microsoft/Terminal'\n",
    "headers = {'User-Agent': 'Codeup Ada Data Science'}\n",
    "response = get(url, headers=headers)\n",
    "soup = BeautifulSoup(response.content, 'html.parser')\n",
    "\n",
    "lang = str(soup.find('span', class_='lang'))\n",
    "\n",
    "print(lang)\n",
    "re.findall(r'>(.*?)<',lang)[0]"
   ]
  },
  {
   "cell_type": "code",
   "execution_count": null,
   "metadata": {},
   "outputs": [],
   "source": []
  },
  {
   "cell_type": "code",
   "execution_count": null,
   "metadata": {},
   "outputs": [],
   "source": []
  },
  {
   "cell_type": "code",
   "execution_count": null,
   "metadata": {},
   "outputs": [],
   "source": [
    "url = 'https://github.com/microsoft/Terminal/blob/master/README.md'\n",
    "headers = {'User-Agent': 'Codeup Ada Data Science'}\n",
    "response = get(url, headers=headers)\n",
    "soup = BeautifulSoup(response.content, 'html.parser')\n",
    "\n",
    "body = soup.find('article', class_=\"markdown-body entry-content p-3 p-md-6\").text.strip()\n",
    "\n"
   ]
  },
  {
   "cell_type": "code",
   "execution_count": null,
   "metadata": {},
   "outputs": [],
   "source": [
    "def basic_clean(article):\n",
    "    article = re.sub(r'\\s', ' ', article).lower()\n",
    "    article = unicodedata.normalize('NFKD', article)\\\n",
    "        .encode('ascii', 'ignore')\\\n",
    "        .decode('utf-8', 'ignore')\n",
    "    article = re.sub(r\"[^a-z0-9'\\s]\", '', article)\n",
    "    return article\n"
   ]
  },
  {
   "cell_type": "code",
   "execution_count": null,
   "metadata": {},
   "outputs": [],
   "source": [
    "clean_body = basic_clean(body)"
   ]
  },
  {
   "cell_type": "code",
   "execution_count": null,
   "metadata": {},
   "outputs": [],
   "source": [
    "clean_body"
   ]
  },
  {
   "cell_type": "code",
   "execution_count": null,
   "metadata": {},
   "outputs": [],
   "source": []
  },
  {
   "cell_type": "code",
   "execution_count": null,
   "metadata": {},
   "outputs": [],
   "source": [
    "lang_url = 'https://github.com/microsoft/Terminal'\n",
    "body_end = '/blob/master/README.md'\n",
    "\n",
    "body_url = lang_url + body_end\n",
    "\n"
   ]
  },
  {
   "cell_type": "code",
   "execution_count": null,
   "metadata": {},
   "outputs": [],
   "source": []
  },
  {
   "cell_type": "code",
   "execution_count": null,
   "metadata": {},
   "outputs": [],
   "source": [
    "lang_url = 'https://github.com/microsoft/Terminal'\n",
    "headers = {'User-Agent': 'Codeup Ada Data Science'}\n",
    "response = get(lang_url, headers=headers)\n",
    "soup = BeautifulSoup(response.content, 'html.parser')\n",
    "language = soup.find('span', class_='lang').text\n",
    "\n",
    "body_end = '/blob/master/README.md'\n",
    "body_url = lang_url + body_end\n",
    "body_url = 'https://github.com/microsoft/Terminal/blob/master/README.md'\n",
    "headers = {'User-Agent': 'Codeup Ada Data Science'}\n",
    "response = get(body_url, headers=headers)\n",
    "soup = BeautifulSoup(response.content, 'html.parser')\n",
    "body = soup.find('article', class_=\"markdown-body entry-content p-3 p-md-6\").text.strip()\n",
    "\n",
    "\n",
    "git_info = {'Language': language,\n",
    "            'Body': body}\n",
    "\n",
    "    "
   ]
  },
  {
   "cell_type": "code",
   "execution_count": null,
   "metadata": {},
   "outputs": [],
   "source": [
    "git_info"
   ]
  },
  {
   "cell_type": "code",
   "execution_count": null,
   "metadata": {},
   "outputs": [],
   "source": []
  },
  {
   "cell_type": "code",
   "execution_count": null,
   "metadata": {},
   "outputs": [],
   "source": [
    "url = 'https://github.com/trending'\n",
    "headers = {'User-Agent': 'Codeup Ada Data Science'}\n",
    "response = get(url, headers=headers)\n",
    "soup = BeautifulSoup(response.content, 'html.parser')\n",
    "\n",
    "soup.find_all('a', href=\"/microsoft/Terminal\")\n",
    "\n"
   ]
  },
  {
   "cell_type": "code",
   "execution_count": null,
   "metadata": {},
   "outputs": [],
   "source": []
  },
  {
   "cell_type": "code",
   "execution_count": null,
   "metadata": {},
   "outputs": [],
   "source": []
  },
  {
   "cell_type": "code",
   "execution_count": null,
   "metadata": {},
   "outputs": [],
   "source": []
  },
  {
   "cell_type": "code",
   "execution_count": 2,
   "metadata": {},
   "outputs": [],
   "source": [
    "gits = ['https://github.com/microsoft/Terminal',\n",
    "        'https://github.com/kkuchta/css-only-chat',\n",
    "        'https://github.com/microsoft/PowerToys',\n",
    "        'https://github.com/jolaleye/cssfx',\n",
    "        'https://github.com/flutter/flutter_web']\n"
   ]
  },
  {
   "cell_type": "code",
   "execution_count": 65,
   "metadata": {},
   "outputs": [],
   "source": [
    "# Grabs the language and body for each git repo as a dictionary and adds to a list\n",
    "def get_git_info(git_list):\n",
    "    \n",
    "    list_of_git_info = []\n",
    "    \n",
    "    for git in git_list:\n",
    "#       This section finds the language with the base url\n",
    "        lang_url = git \n",
    "        headers = {'User-Agent': 'Codeup Ada Data Science'}\n",
    "        response = get(lang_url, headers=headers)\n",
    "        soup = BeautifulSoup(response.content, 'html.parser')\n",
    "        language = soup.find('span', class_='lang')\n",
    "\n",
    "#       This adds the part to get to the readme and scrapes the body  \n",
    "        body_end = '/blob/master/README.md'\n",
    "        body_url = lang_url + body_end\n",
    "        headers = {'User-Agent': 'Codeup Ada Data Science'}\n",
    "        response = get(body_url, headers=headers)\n",
    "        soup = BeautifulSoup(response.content, 'html.parser')\n",
    "        body = soup.find('article', class_=\"markdown-body entry-content p-3 p-md-6\").text.strip()\n",
    "        \n",
    "#       Combines the language and body to a dictionary, if no language on the repo it is ignored\n",
    "        if language != None:\n",
    "            language = str(language)\n",
    "            list_of_git_info.append({'Language': re.findall(r'>(.*?)<', language)[0],\n",
    "                                     'Body': body})\n",
    "        \n",
    "    return list_of_git_info\n"
   ]
  },
  {
   "cell_type": "code",
   "execution_count": 62,
   "metadata": {},
   "outputs": [
    {
     "data": {
      "text/plain": [
       "[{'Language': 'C++',\n",
       "  'Body': 'Welcome! This repository contains the source code for:\\n\\nWindows Terminal\\nThe Windows console host (conhost.exe)\\nComponents shared between the two projects\\nColorTool\\nSample projects that show how to consume the Windows Console APIs\\n\\nBuild Status\\n\\n\\n\\nProject\\nBuild Status\\n\\n\\n\\n\\nTerminal\\n\\n\\n\\nColorTool\\n\\n\\n\\n\\nTerminal & Console Overview\\nPlease take a few minutes to review the overview below before diving into the code:\\nWindows Terminal\\nWindows Terminal is a new, modern, feature-rich, productive terminal application for command-line users. It includes many of the features most frequently requested by the Windows command-line community including support for tabs, rich text, globalization, configurability, theming & styling, and more.\\nThe Terminal will also need to meet our goals and measures to ensure it remains fast, and efficient, and doesn\\'t consume vast amounts of memory or power.\\nThe Windows console host\\nThe Windows console host, conhost.exe, is Windows\\' original command-line user experience. It implements Windows\\' command-line infrastructure, and is responsible for hosting the Windows Console API, input engine, rendering engine, and user preferences. The console host code in this repository is the actual source from which the conhost.exe in Windows itself is built.\\nConsole\\'s primary goal is to remain backwards-compatible with existing console subsystem applications.\\nSince assuming ownership of the Windows command-line in 2014, the team has added several new features to the Console, including window transparency, line-based selection, support for ANSI / Virtual Terminal sequences, 24-bit color, a Pseudoconsole (\"ConPTY\"), and more.\\nHowever, because the Console\\'s primary goal is to maintain backward compatibility, we\\'ve been unable to add many of the features the community has been asking for, and which we\\'ve been wanting to add for the last several years--like tabs!\\nThese limitations led us to create the new Windows Terminal.\\nShared Components\\nWhile overhauling the Console, we\\'ve modernized its codebase considerably. We\\'ve cleanly separated logical entities into modules and classes, introduced some key extensibility points, replaced several old, home-grown collections and containers with safer, more efficient STL containers, and made the code simpler and safer by using Microsoft\\'s WIL header library.\\nThis overhaul work resulted in the creation of several key components that would be useful for any terminal implementation on Windows, including a new DirectWrite-based text layout and rendering engine, a text buffer capable of storing both UTF-16 and UTF-8, and a VT parser/emitter.\\nBuilding a new terminal\\nWhen we started building the new terminal application, we explored and evaluated several approaches and technology stacks. We ultimately decided that our goals would be best met by sticking with C++ and sharing the aforementioned modernized components, placing them atop the modern Windows application platform and UI framework.\\nFurther, we realized that this would allow us to build the terminal\\'s renderer and input stack as a reusable Windows UI control that others can incorporate into their applications.\\nFAQ\\nWhere can I download Windows Terminal?\\nThere are no binaries to download quite yet.\\nThe Windows Terminal is in the very early alpha stage, and not ready for the general public quite yet. If you want to jump in early, you can try building it yourself from source.\\nOtherwise, you\\'ll need to wait until Mid-June for an official preview build to drop.\\nI built and ran the new Terminal, but it looks just like the old console! What gives?\\nFirstly, make sure you\\'re building & deploying CascadiaPackage in Visual Studio, NOT Host.EXE. OpenConsole.exe is just conhost.exe, the same old console you know and love. opencon.cmd will launch openconsole.exe, and unfortunately, openterm.cmd is currently broken.\\nSecondly, try pressing Ctrl+t. The tabs are hidden when you only have one tab by default. In the future, the UI will be dramatically different, but for now, the defaults are supposed to look like the console defaults.\\nI tried running WindowsTerminal.exe and it crashes!\\n\\nDon\\'t try to run it unpackaged. Make sure to build & deploy CascadiaPackage from Visual Studio, and run the Windows Terminal (Preview) app.\\nMake sure you\\'re on the right version of Windows. You\\'ll need to be on Insider\\'s builds, or wait for the 1903 release, as the Windows Terminal REQUIRES features from the latest Windows release.\\n\\nGetting Started\\nPrerequisites\\n\\nYou must be running Windows 1903 (build >= 10.0.18362.0) or above in order to run Windows Terminal\\nYou must have the 1903 SDK (build 10.0.18362.0) installed\\nYou will need at least VS 2017 installed\\nYou will need to install both the following packages in VS (\"Workloads\" tab in Visual Studio Installer) :\\n\\n\"Desktop Development with C++\"\\n\"Universal Windows Platform Development\"\\nIf you\\'re running VS2019, you\\'ll also need to install the \"v141 Toolset\" and \"Visual C++ ATL for x86 and x64\"\\n\\n\\nYou will also need to enable Developer Mode in the Settings app to enable installing the Terminal app for running locally.\\n\\nContributing\\nWe are excited to work alongside you, our amazing community, to build and enhance Windows Terminal!\\nWe ask that before you start work on a feature that you would like to contribute, please file an issue describing your proposed change: We will be happy to work with you to figure out the best approach, provide guidance and mentorship throughout feature development, and help avoid any wasted or duplicate effort.\\n\\n👉 Remember! Your contributions may be incorporated into future versions of Windows! Because of this, all pull requests will be subject to the same level of scrutiny for quality, coding standards, performance, globalization, accessibility, and compatibility as those of our internal contributors.\\n\\n\\n⚠ Note: The Command-Line Team is actively working out of this repository and will be periodically re-structuring the code to make it easier to comprehend, navigate, build, test, and contribute to, so DO expect significant changes to code layout on a regular basis.\\n\\nCommunicating with the Team\\nThe easiest way to communicate with the team is via GitHub issues. Please file new issues, feature requests and suggestions, but DO search for similar open/closed pre-existing issues before you do.\\nPlease help us keep this repository clean, inclusive, and fun! We will not tolerate any abusive, rude, disrespectful or inappropriate behavior. Read our Code of Conduct for more details.\\nIf you would like to ask a question that you feel doesn\\'t warrant an issue (yet), please reach out to us via Twitter:\\n\\n\\nRich Turner, Program Manager: @richturn_ms\\n\\n\\nDustin Howett, Engineering Lead: @dhowett\\n\\n\\nMichael Niksa, Senior Developer: @michaelniksa\\n\\n\\nKayla Cinnamon, Program Manager (especially for UX issues): @cinnamon_msft\\n\\n\\nDeveloper Guidance\\nBuilding the Code\\nThis repository uses git submodules for some of its dependencies. To make sure submodules are restored or updated, be sure to run the following prior to building:\\ngit submodule update --init --recursive\\nOpenConsole.sln may be built from within Visual Studio or from the command-line using MSBuild. To build from the command line:\\nnuget restore OpenConsole.sln\\nmsbuild OpenConsole.sln\\nWe\\'ve provided a set of convenience scripts as well as README in the /tools directory to help automate the process of building and running tests.\\nCoding Guidance\\nPlease review these brief docs below relating to our coding standards etc.\\n\\n👉 If you find something missing from these docs, feel free to contribute to any of our documentation files anywhere in the repository (or make some new ones!)\\n\\nThis is a work in progress as we learn what we\\'ll need to provide people in order to be effective contributors to our project.\\n\\nCoding Style\\nCode Organization\\nExceptions in our legacy codebase\\nHelpful smart pointers and macros for interfacing with Windows in WIL\\n\\nCode of Conduct\\nThis project has adopted the Microsoft Open Source Code of Conduct.\\nFor more information see the Code of Conduct FAQ or contact opencode@microsoft.com with any additional questions or comments.'},\n",
       " {'Language': 'Ruby',\n",
       "  'Body': 'CSS-Only Chat\\nA truly monstrous async web chat using no JS whatsoever on the frontend.\\n\\nWait what\\nThis is an asynchronous chat that sends + receives messages in the browser with no reloads and no javascript.\\nOk so how\\nBackground-images loaded via pseudoselectors + a forever-loading index page (remember Comet?).\\nSay that again?\\nOk, so there are two things we need the browser to do: send data and receive data.  Let\\'s start with the first.\\nSending Data\\nCSS is really limited in what it can do.  However, we can use it to effectively detect button presses:\\n.some-button:active {\\n  background-image: url(\\'some_image.jpg\\')\\n}\\n\\nWhat\\'s cool is that a browser won\\'t actually load that background image until this selector is used - that is, when this button is pressed.  So now we have a way to trigger a request to a server of our choice on a button press.  That sounds like data sending!\\nNow, of course, this only works once per button (since a browser won\\'t try to load that image twice), but it\\'s a start.\\nReceiving Data\\nSince we can\\'t use JS, it\\'s really hard to change a page after it\\'s already been loaded.  But it is possible.\\nBack before websockets were widely supported, we had to use clever hacks if we wanted to push data from a server to a client in an ongoing basis.  One such hack was just to make the page never finish loading.  It turns out that you can tell the browser to start rendering a page before it\\'s finished loading (using the Transfer-Encoding: chunked http header).  And when you do that, you don\\'t actually have to stop loading the page.  You can just keep adding stuff to the bottom of the html forever, at whatever rate you want.\\nSo, for example, you could start sending a normal html page, then just stop sending html (while still telling the client you\\'re sending) until you\\'re ready to deliver another message.\\nNow, all this lets us do is periodically append html to the page.  What can we do with that?  How about, when you load the index page, this happens:\\n\\nWe load up the first pile of html we want to show.  A welcome message, etc.\\nWe stop loading html for a while until we want to send some sort of update.\\nNow we load up a <style> element that display: none\\'s all the previous html\\nThen we load up whatever new html we want to show\\nFinally we wait until the next update we want to send and GOTO 3.\\n\\nSingle-use buttons?\\nOk, so we have that problem earlier where each button is only single-use.  It tries to send a get request once, then never will again.\\nThankfully, our method of receiving data fixes that for us.  Here\\'s what happens:\\n\\nWe show an \"a\" button whose background image is like \"img/a\".\\nWhen you press it, the server receives the image request for \"a\"\\nThe server then pushes an update to the client to hide the current button and replace it with one whose background images is \"image/aa\".\\n\\nIf the buttons you pressed were \"h\", \"e\", and \"l\", then the \"a\" button\\'s background image url would be \"img/hela\".  And since we\\'re replacing all buttons every time you press one, the single-use button problem goes away!\\nMisc other details\\n\\nWe actually encode a bit more info into the button urls (like each client\\'s id)\\nBecause the data-sending and data-receiving happens on different threads, we need inter-thread communication.  That sounds like work, so we\\'ll just use Redis pubsub for that.\\n\\nFAQ\\nWhat inspired this? Chernobyl, Hindenburg, The Tacoma Narrows Bridge...\\nReally? No, it was this clever tweet by davywtf.\\nWhy\\'s your code suck Why do you suck?\\nNo but really Because I was mostly making this up as I went.  There\\'s a lot of exploratory coding here that I only minimally cleaned up.  If I rebuilt it I\\'d store the UI state for a client in redis and just push it out in its entirety when needed via a single generic screen-updating mechanism.\\nWhat could go wrong with this technique? Broken by browser bg-image handling changes; long-request timeouts; running out of threads; fast-clicking bugs; generic concurrency headaches; poor handling by proxies; it\\'s crazy inaccessible; etc etc\\nShould I use this in real life? Dear god yes.\\nI have an idea for how this could be made better/worse/hackier Tweet at me (@kkuchta).  I\\'m always down to see a terrible idea taken further!'},\n",
       " {'Language': 'Vue',\n",
       "  'Body': 'Beautifully simple click-to-copy CSS effects\\n\\n\\nhttps://cssfx.dev\\n\\nTo run locally, npm install then npm run dev.\\nContributing\\nCheck out the contributing guide to learn how you can help out!\\nAlways be sure to follow the Code of Conduct.\\nLicense\\nThe CSSFX site and effects are MIT licensed.'},\n",
       " {'Language': 'Dart',\n",
       "  'Body': 'Welcome to the code repository for Flutter for web.\\nThis repository contains the source code for a fork of\\nFlutter that targets the web. Our goal is to add web\\nsupport as a first-tier platform in the Flutter SDK alongside iOS and Android.\\nThe code in this repository is a stepping stone to that goal,\\nproviding web-only packages that implement (almost) the entire Flutter API.\\nWeb support for Flutter is not yet stable. We\\'re designating this release as a\\ntechnical preview, designed to validate that the product\\nmeets developers\\' needs, iterate on major features and get to feature complete.\\nDesign and implementation may change significantly, and changes may be\\nintroduced that break compatibility with existing code. As a result, the Flutter\\nteam do not recommend using code created with Flutter for web in production\\nat this time.\\nYou can find a\\nshort introduction to Flutter for web\\non our blog.\\nImportant notes\\nLimitations\\nWe intend to completely support all of Flutter\\'s API and functionality across\\nmodern browsers. However, during this preview, there are a number of exceptions:\\n\\nflutter_web does not have a plugin system yet. Temporarily, we provide\\naccess to dart:html, dart:js, dart:svg, dart:indexed_db and other web\\nlibraries that give you access to the vast majority of browser APIs. However,\\nexpect that these libraries will be replaced by a different plugin API.\\nNot all Flutter APIs are implemented on Flutter for web yet.\\nPerformance work is only just beginning. The code generated by Flutter for web\\nmay run slowly, or demonstrate significant UI \"jank\".\\nAt this time, desktop UI interactions are not fully complete, so a UI built\\nwith flutter_web may feel like a mobile app, even\\nwhen running on a desktop browser.\\nThe development workflow is only designed to work with Chrome at the moment.\\n\\nBrowser support\\nFlutter for web provides:\\n\\na production JavaScript compiler\\nthat generates optimized, minified code for deployment\\na development JavaScript compiler,\\nthat offers incremental compilation and hot restart\\n\\nWhen built with the production compiler, Flutter supports Chromium-based\\nbrowsers and Safari, both on desktop and mobile. We also aim to fully support\\nFirefox and Edge as targeted platforms, but our own test coverage is still low\\non these browsers. Our intention is to support the current and the last two\\nmajor releases. Feedback on rendering and performance issues on all of these\\nbrowsers is appreciated.\\nInternet Explorer support is not planned.\\nThe development compiler currently supports Chrome only.\\nTesting Flutter for web\\nWhile we are far from code complete, we\\'re ready for you to start developing\\nand experimenting with Flutter for web. We are building the product around a\\nnumber of target scenarios,\\nas described in our blog,\\nand we\\'d appreciate your feedback on feature gaps or suitability for these\\nscenarios, as well as other scenarios for which you find Flutter useful on the\\nweb.\\nIn addition, we\\'d love to see repros that demonstrate crashes, rendering\\nfidelity issues or extreme performance issues. We\\'d also love general feedback\\non the quality of the release and the developer experience.\\nOf particular interest to us is testing across a variety of operating systems\\nused for development (Windows, Linux, Mac) and browsers used for deployment.\\nSince we are developing this in a separate fork to the main Flutter repo, we are\\nnot yet ready to accept GitHub pull requests at this time. However,\\nGitHub issues are very welcome.\\nSamples\\nCheck out flutter.github.io/samples.\\nGetting started\\nFlutter 1.5 and above enable support for targeting the web with Flutter,\\nincluding Dart compilation to JavaScript. To use the Flutter SDK with the\\nflutter_web preview make sure you have upgraded Flutter to at least v1.5.4\\nby running flutter upgrade from your machine. If you\\'re actively developing\\nfor Flutter for web, you may prefer to be running from one of the unstable\\nchannels. Our wiki describes the\\nFlutter channels\\nand how to select the right one for your needs.\\nClone the flutter_web source code\\nClone this repository locally.\\nInstall the flutter_web build tools\\nTo install the\\nwebdev package,\\nwhich provides the build tools for Flutter for web, run the following:\\n$ flutter packages pub global activate webdev\\nEnsure that the $HOME/.pub-cache/bin directory\\nis in your path,\\nand then you may use the webdev command directly from your terminal.\\n\\nNote: if you have problems configuring webdev to run directly, try:\\nflutter packages pub global run webdev [command].\\n\\nRun the hello_world example\\n\\n\\nThe example exists at examples/hello_world in the repository.\\n$ cd examples/hello_world/\\n\\n\\nUpdate packages.\\n$ flutter packages upgrade\\n! flutter_web 0.0.0 from path ../../flutter_web\\n! flutter_web_ui 0.0.0 from path ../../flutter_web_ui\\nRunning \"flutter packages upgrade\" in hello_world...                5.0s\\nIf that succeeds, you\\'re ready to run it!\\n\\n\\nBuild and serve the example locally.\\n$ webdev serve\\n[INFO] Generating build script completed, took 331ms\\n...\\n[INFO] Building new asset graph completed, took 1.4s\\n...\\n[INFO] Running build completed, took 27.9s\\n...\\n[INFO] Succeeded after 28.1s with 618 outputs (3233 actions)\\nServing `web` on http://localhost:8080\\nOpen http://localhost:8080 in Chrome and you should see Hello World in\\nred text in the upper-left corner.\\n\\n\\nTools support for Flutter web development\\nVisual Studio Code\\nVisual Studio Code supports Flutter web development with the v3.0 release of\\nthe Flutter extension.\\n\\ninstall the Flutter SDK\\nset up VS Code\\nconfigure VS Code to point to your local Flutter SDK\\nrun the Flutter: New Web Project command from VS Code\\nafter the project is created, run your app by pressing F5 or\\n\"Debug -> Start Debugging\"\\nVS Code will use the webdev command-line tool to build and run your app; a\\nnew Chrome window should open, showing your running app\\n\\nUsing from IntelliJ\\n\\ninstall the Flutter SDK\\nset up your copy of IntelliJ or\\nAndroid Studio\\nconfigure IntelliJ or Android Studio to point to your local Flutter SDK\\ncreate a new Dart project; note, for a Flutter for web app, you want to start\\nfrom the Dart project wizard, not the Flutter project wizard\\nfrom the Dart project wizard, select the \\'Flutter for web\\' option for the\\napplication template\\ncreate the project; pub get will be run automatically\\nonce the project is created, hit the run button on the main toolbar\\nIntelliJ will use the webdev command-line tool to build and run your app; a\\nnew Chrome window should open, showing your running app\\n\\nWorkflow\\nUse flutter_web packages from git\\nIf you\\'d like to depend on the flutter_web packages without cloning the\\nrepository, you can setup your pubspec as follows:\\nname: my_flutter_web_app\\n\\nenvironment:\\n  sdk: \\'>=2.2.0 <3.0.0\\'\\n\\ndependencies:\\n  flutter_web: any\\n  flutter_web_ui: any\\n\\ndev_dependencies:\\n  # Enables the `pub run build_runner` command\\n  build_runner: ^1.1.2\\n  # Includes the JavaScript compilers\\n  build_web_compilers: ^1.0.0\\n\\n# flutter_web packages are not published to pub.dartlang.org\\n# These overrides tell the package tools to get them from GitHub\\ndependency_overrides:\\n  flutter_web:\\n    git:\\n      url: https://github.com/flutter/flutter_web\\n      path: packages/flutter_web\\n  flutter_web_ui:\\n    git:\\n      url: https://github.com/flutter/flutter_web\\n      path: packages/flutter_web_ui\\nGetting (stateless) hot-reload with webdev\\nTo use webdev with hot-reload, run the following within your project\\ndirectory:\\n$ webdev serve --auto restart\\nYou\\'ll notice a similar output to flutter packages pub run build_runner serve\\nbut now changes to your application code should cause a quick refresh of the\\napplication on save.\\n\\nNote: the --hot-reload option is not perfect. If you notice unexpected\\nbehavior, you may want to manually refresh the page.\\n\\n\\nNote: the --hot-reload option is currently \"stateless\". Application state\\nwill be lost on reload. We do hope to offer \"stateful\" hot-reload on the web\\n– we\\'re actively working on it!\\n\\nBuilding with the production JavaScript compiler\\nThe workflow documented above (available with build_runner and webdev) uses\\nthe Dart Dev Compiler which is\\ndesigned for fast, incremental compilation and easy debugging.\\nIf you\\'d like evaluate production performance, browser compatibility and code\\nsize, you can enable our release compiler,\\ndart2js.\\nTo enable the release compiler, pass in the --release flag (or just -r).\\n$ webdev serve -r\\n\\nNote: Builds may be slower in this configuration.\\n\\nIf you\\'d like to generate output to disk, we recommend you use webdev.\\n$ webdev build\\nThis will create a build directory with index.html, main.dart.js and the\\nrest of the files needed to run the application using a static HTTP server.\\nTo optimize the output JavaScript, you can enable optimization flags using a\\nbuild.yaml file in the root of your project with the following contents:\\n# See https://github.com/dart-lang/build/tree/master/build_web_compilers#configuration\\ntargets:\\n  $default:\\n    builders:\\n      build_web_compilers|entrypoint:\\n        generate_for:\\n        - web/**.dart\\n        options:\\n          dart2js_args:\\n            - --no-source-maps\\n            - -O4\\n\\nNote: the -O4 option enables a number of advanced optimizations that may\\ncause runtime errors in code that has not been thoroughly tested.\\n\\nMigrating existing code\\nIf you\\'d like to migrate existing Flutter code to run on the web preview, read\\nthe migration guide.'}]"
      ]
     },
     "execution_count": 62,
     "metadata": {},
     "output_type": "execute_result"
    }
   ],
   "source": [
    "get_git_info(gits)"
   ]
  },
  {
   "cell_type": "code",
   "execution_count": null,
   "metadata": {},
   "outputs": [],
   "source": []
  },
  {
   "cell_type": "code",
   "execution_count": 66,
   "metadata": {},
   "outputs": [],
   "source": [
    "name =  '<a href=\"/microsoft/Terminal\">'"
   ]
  },
  {
   "cell_type": "code",
   "execution_count": 69,
   "metadata": {},
   "outputs": [
    {
     "data": {
      "text/plain": [
       "'/microsoft/Terminal'"
      ]
     },
     "execution_count": 69,
     "metadata": {},
     "output_type": "execute_result"
    }
   ],
   "source": [
    "re.findall(r'href=\"(.*?)\"', name)"
   ]
  },
  {
   "cell_type": "code",
   "execution_count": null,
   "metadata": {},
   "outputs": [],
   "source": []
  },
  {
   "cell_type": "code",
   "execution_count": null,
   "metadata": {},
   "outputs": [],
   "source": []
  },
  {
   "cell_type": "code",
   "execution_count": null,
   "metadata": {},
   "outputs": [],
   "source": []
  }
 ],
 "metadata": {
  "kernelspec": {
   "display_name": "Python 3",
   "language": "python",
   "name": "python3"
  },
  "language_info": {
   "codemirror_mode": {
    "name": "ipython",
    "version": 3
   },
   "file_extension": ".py",
   "mimetype": "text/x-python",
   "name": "python",
   "nbconvert_exporter": "python",
   "pygments_lexer": "ipython3",
   "version": "3.7.1"
  }
 },
 "nbformat": 4,
 "nbformat_minor": 2
}
