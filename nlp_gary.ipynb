{
 "cells": [
  {
   "cell_type": "markdown",
   "metadata": {},
   "source": [
    "    NLP group project - garys code"
   ]
  },
  {
   "cell_type": "code",
   "execution_count": 3,
   "metadata": {},
   "outputs": [],
   "source": [
    "import pandas as pd\n",
    "from requests import get\n",
    "from bs4 import BeautifulSoup\n",
    "import os\n",
    "import re"
   ]
  },
  {
   "cell_type": "markdown",
   "metadata": {},
   "source": [
    "Scrape the urls from the GitHub trending sites"
   ]
  },
  {
   "cell_type": "code",
   "execution_count": 4,
   "metadata": {},
   "outputs": [
    {
     "data": {
      "text/plain": [
       "['/microsoft/Terminal',\n",
       " '/jackfrued/Python-100-Days',\n",
       " '/kkuchta/css-only-chat',\n",
       " '/microsoft/PowerToys',\n",
       " '/jolaleye/cssfx',\n",
       " '/MisterBooo/LeetCodeAnimation',\n",
       " '/flutter/flutter_web',\n",
       " '/TheAlgorithms/Python',\n",
       " '/hiroppy/fusuma',\n",
       " '/CyC2018/CS-Notes',\n",
       " '/jaywcjlove/linux-command',\n",
       " '/flutter/flutter',\n",
       " '/996icu/996.ICU',\n",
       " '/STVIR/pysot',\n",
       " '/minamarkham/formation',\n",
       " '/azl397985856/leetcode',\n",
       " '/qianguyihao/Web',\n",
       " '/microsoft/react-native-windows',\n",
       " '/sql-machine-learning/sqlflow',\n",
       " '/sabakkps/backslide',\n",
       " '/dgryski/go-perfbook',\n",
       " '/Snailclimb/JavaGuide',\n",
       " '/microsoft/vscode',\n",
       " '/markphelps/flipt',\n",
       " '/teoga/awesome-product-design']"
      ]
     },
     "execution_count": 4,
     "metadata": {},
     "output_type": "execute_result"
    }
   ],
   "source": [
    "url = 'https://github.com/trending'\n",
    "headers = {'User-Agent': 'Codeup Ada Data Science'} # codeup.com doesn't like our default user-agent\n",
    "response = get(url, headers=headers)"
   ]
  },
  {
   "cell_type": "code",
   "execution_count": 16,
   "metadata": {},
   "outputs": [
    {
     "data": {
      "text/plain": [
       "['/microsoft/Terminal',\n",
       " '/jackfrued/Python-100-Days',\n",
       " '/kkuchta/css-only-chat',\n",
       " '/microsoft/PowerToys',\n",
       " '/jolaleye/cssfx',\n",
       " '/MisterBooo/LeetCodeAnimation',\n",
       " '/flutter/flutter_web',\n",
       " '/TheAlgorithms/Python',\n",
       " '/CyC2018/CS-Notes',\n",
       " '/flutter/flutter',\n",
       " '/jaywcjlove/linux-command',\n",
       " '/996icu/996.ICU',\n",
       " '/STVIR/pysot',\n",
       " '/minamarkham/formation',\n",
       " '/microsoft/react-native-windows',\n",
       " '/azl397985856/leetcode',\n",
       " '/hiroppy/fusuma',\n",
       " '/sql-machine-learning/sqlflow',\n",
       " '/qianguyihao/Web',\n",
       " '/dgryski/go-perfbook',\n",
       " '/Snailclimb/JavaGuide',\n",
       " '/microsoft/vscode',\n",
       " '/devias-io/react-material-dashboard',\n",
       " '/alibaba/MNN',\n",
       " '/baidu/amis']"
      ]
     },
     "execution_count": 16,
     "metadata": {},
     "output_type": "execute_result"
    }
   ],
   "source": [
    "soup = BeautifulSoup(response.content, 'html.parser')\n",
    "title = soup.title\n",
    "#  pull the GitHub Trending repositories\n",
    "trending = soup.find_all('div', class_= 'd-inline-block')\n",
    "#  find all the \"hrefs\", which are the trending titles\n",
    "re.findall(r'href=\"(.*?)\"', str(trending))\n",
    "           "
   ]
  },
  {
   "cell_type": "code",
   "execution_count": 5,
   "metadata": {},
   "outputs": [
    {
     "data": {
      "text/plain": [
       "bs4.element.ResultSet"
      ]
     },
     "execution_count": 5,
     "metadata": {},
     "output_type": "execute_result"
    }
   ],
   "source": [
    "type(trending)"
   ]
  },
  {
   "cell_type": "code",
   "execution_count": null,
   "metadata": {},
   "outputs": [],
   "source": []
  }
 ],
 "metadata": {
  "kernelspec": {
   "display_name": "Python 3",
   "language": "python",
   "name": "python3"
  },
  "language_info": {
   "codemirror_mode": {
    "name": "ipython",
    "version": 3
   },
   "file_extension": ".py",
   "mimetype": "text/x-python",
   "name": "python",
   "nbconvert_exporter": "python",
   "pygments_lexer": "ipython3",
   "version": "3.7.1"
  }
 },
 "nbformat": 4,
 "nbformat_minor": 2
}
