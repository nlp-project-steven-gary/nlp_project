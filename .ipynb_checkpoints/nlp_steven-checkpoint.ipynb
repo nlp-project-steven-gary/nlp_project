{
 "cells": [
  {
   "cell_type": "code",
   "execution_count": 1,
   "metadata": {},
   "outputs": [],
   "source": [
    "import pandas as pd\n",
    "from requests import get\n",
    "from bs4 import BeautifulSoup\n",
    "import os\n",
    "import path\n",
    "import re\n",
    "\n",
    "import unicodedata\n",
    "import re\n",
    "import json\n",
    "\n",
    "import nltk\n",
    "from nltk.tokenize.toktok import ToktokTokenizer\n",
    "from nltk.corpus import stopwords\n",
    "\n"
   ]
  },
  {
   "cell_type": "code",
   "execution_count": 2,
   "metadata": {},
   "outputs": [],
   "source": [
    "# Grabs the language and body for each git repo as a dictionary and adds to a list\n",
    "def get_git_info(git_list):\n",
    "    \n",
    "    list_of_git_info = []\n",
    "    \n",
    "    for git in git_list:\n",
    "#       This section finds the language with the base url\n",
    "        lang_url = git \n",
    "        headers = {'User-Agent': 'Codeup Ada Data Science'}\n",
    "        response = get(lang_url, headers=headers)\n",
    "        soup = BeautifulSoup(response.content, 'html.parser')\n",
    "        language = soup.find('span', class_='lang')\n",
    "\n",
    "#       This adds the part to get to the readme and scrapes the body  \n",
    "        body_end = '/blob/master/README.md'\n",
    "        body_url = lang_url + body_end\n",
    "        headers = {'User-Agent': 'Codeup Ada Data Science'}\n",
    "        response = get(body_url, headers=headers)\n",
    "        soup = BeautifulSoup(response.content, 'html.parser')\n",
    "        body = soup.find('article', class_=\"markdown-body entry-content p-3 p-md-6\").text.strip()\n",
    "        \n",
    "#       Combines the language and body to a dictionary, if no language on the repo it is ignored\n",
    "        if language != None:\n",
    "            language = str(language)\n",
    "            list_of_git_info.append({'Language': re.findall(r'>(.*?)<', language)[0],\n",
    "                                     'Body': body})\n",
    "        \n",
    "    return list_of_git_info\n"
   ]
  },
  {
   "cell_type": "code",
   "execution_count": 3,
   "metadata": {},
   "outputs": [],
   "source": [
    "gits = ['https://github.com/microsoft/Terminal',\n",
    "        'https://github.com/kkuchta/css-only-chat',\n",
    "        'https://github.com/microsoft/PowerToys',\n",
    "        'https://github.com/jolaleye/cssfx',\n",
    "        'https://github.com/flutter/flutter_web']\n"
   ]
  },
  {
   "cell_type": "code",
   "execution_count": null,
   "metadata": {},
   "outputs": [],
   "source": [
    "# url = 'https://github.com/search?q=stars%3A%3E0&s=stars&type=Repositories'\n",
    "# headers = {'User-Agent': 'Codeup Ada Data Science'} # codeup.com doesn't like our default user-agent\n",
    "# response = get(url, headers=headers)\n",
    "\n",
    "# soup = BeautifulSoup(response.content, 'html.parser')\n",
    "# title = soup.title\n",
    "# #  pull the GitHub Trending repositories\n",
    "# trending = soup.find_all('div', class_= 'd-inline-block')\n",
    "# #  find all the \"hrefs\", which are the trending titles\n",
    "# repo_names = re.findall(r'href=\"(.*?)\"', str(trending))\n"
   ]
  },
  {
   "cell_type": "code",
   "execution_count": null,
   "metadata": {},
   "outputs": [],
   "source": [
    "# git_base_address = 'https://github.com'\n",
    "\n",
    "# repo_address_list = []\n",
    "\n",
    "# for repo in repo_names:\n",
    "#     repo_address_list.append(git_base_address + repo)"
   ]
  },
  {
   "cell_type": "code",
   "execution_count": null,
   "metadata": {},
   "outputs": [],
   "source": []
  },
  {
   "cell_type": "code",
   "execution_count": null,
   "metadata": {},
   "outputs": [],
   "source": []
  },
  {
   "cell_type": "code",
   "execution_count": null,
   "metadata": {},
   "outputs": [],
   "source": []
  },
  {
   "cell_type": "code",
   "execution_count": 4,
   "metadata": {},
   "outputs": [],
   "source": [
    "def basic_clean(repo):\n",
    "    repo = re.sub(r'\\s', ' ', repo).lower()\n",
    "    repo = unicodedata.normalize('NFKD', repo)\\\n",
    "        .encode('ascii', 'ignore')\\\n",
    "        .decode('utf-8', 'ignore')\n",
    "    repo = re.sub(r\"[^a-z0-9'\\s]\", '', repo)\n",
    "    return repo\n",
    "\n",
    "\n",
    "def tokenize(repo):\n",
    "    tokenizer = nltk.tokenize.ToktokTokenizer()\n",
    "    repo = tokenizer.tokenize(repo, return_str=True)\n",
    "    return repo\n",
    "    \n",
    "\n",
    "def stem(repo):\n",
    "    ps = nltk.porter.PorterStemmer()\n",
    "    stems = [ps.stem(word) for word in repo.split()]\n",
    "    repo_stemmed = ' '.join(stems)\n",
    "    return repo_stemmed\n",
    "\n",
    "\n",
    "def lemmatize(repo):\n",
    "    wnl = nltk.stem.WordNetLemmatizer()\n",
    "    lemmas = [wnl.lemmatize(word) for word in repo.split()]\n",
    "    repo_lemmatized = ' '.join(lemmas)\n",
    "    return repo_lemmatized\n",
    "\n",
    "\n",
    "def remove_stopwords(repo, extra_words = [], exclude_words = []):\n",
    "    stopword_list = stopwords.words('english')\n",
    "    [stopword_list.append(word) for word in extra_words if word not in stopword_list]\n",
    "    [stopword_list.remove(word) for word in exclude_words if word in stopword_list]\n",
    "    words = repo.lower().split()\n",
    "    filtered_words = [w for w in words if w not in stopword_list]\n",
    "    repo_without_stopwords = ' '.join(filtered_words)\n",
    "    return repo_without_stopwords\n",
    "\n",
    "\n",
    "def prep_repo(dictionary_repo, extra_words = [], exclude_words = []):\n",
    "    cleaned_dict = {\n",
    "    'language': dictionary_repo['Language'],\n",
    "    'original': dictionary_repo['Body'],\n",
    "    'stemmed': stem(dictionary_repo['Body']),\n",
    "    'lemmatized': lemmatize(dictionary_repo['Body']),\n",
    "    'clean': remove_stopwords(basic_clean(dictionary_repo['Body']), extra_words, exclude_words),\n",
    "        }\n",
    "\n",
    "    return cleaned_dict\n",
    "\n",
    "def prepare_repo_data(dictionary_repo, extra_words = [], exclude_words = []):\n",
    "    clean_dict_list = []\n",
    "    \n",
    "    for repo in dictionary_repo:\n",
    "        clean_dict_list.append(prep_repo(repo, extra_words, exclude_words))\n",
    "        \n",
    "    return clean_dict_list\n",
    "        "
   ]
  },
  {
   "cell_type": "code",
   "execution_count": null,
   "metadata": {},
   "outputs": [],
   "source": [
    "data = prepare_repo_data(get_git_info(gits))"
   ]
  },
  {
   "cell_type": "code",
   "execution_count": null,
   "metadata": {},
   "outputs": [],
   "source": [
    "df = pd.DataFrame(data)\n",
    "df.set_index('language', inplace=True)"
   ]
  },
  {
   "cell_type": "code",
   "execution_count": null,
   "metadata": {},
   "outputs": [],
   "source": [
    "df.head()"
   ]
  },
  {
   "cell_type": "code",
   "execution_count": 7,
   "metadata": {},
   "outputs": [],
   "source": [
    "def get_git_df(gits):\n",
    "    data = prepare_repo_data(get_git_info(gits))\n",
    "    df = pd.DataFrame(data)\n",
    "    df.set_index('language', inplace=True)\n",
    "    return df\n",
    "    \n",
    "    "
   ]
  },
  {
   "cell_type": "code",
   "execution_count": 8,
   "metadata": {},
   "outputs": [
    {
     "data": {
      "text/html": [
       "<div>\n",
       "<style scoped>\n",
       "    .dataframe tbody tr th:only-of-type {\n",
       "        vertical-align: middle;\n",
       "    }\n",
       "\n",
       "    .dataframe tbody tr th {\n",
       "        vertical-align: top;\n",
       "    }\n",
       "\n",
       "    .dataframe thead th {\n",
       "        text-align: right;\n",
       "    }\n",
       "</style>\n",
       "<table border=\"1\" class=\"dataframe\">\n",
       "  <thead>\n",
       "    <tr style=\"text-align: right;\">\n",
       "      <th></th>\n",
       "      <th>clean</th>\n",
       "      <th>lemmatized</th>\n",
       "      <th>original</th>\n",
       "      <th>stemmed</th>\n",
       "    </tr>\n",
       "    <tr>\n",
       "      <th>language</th>\n",
       "      <th></th>\n",
       "      <th></th>\n",
       "      <th></th>\n",
       "      <th></th>\n",
       "    </tr>\n",
       "  </thead>\n",
       "  <tbody>\n",
       "    <tr>\n",
       "      <th>C++</th>\n",
       "      <td>welcome repository contains source code window...</td>\n",
       "      <td>Welcome! This repository contains the source c...</td>\n",
       "      <td>Welcome! This repository contains the source c...</td>\n",
       "      <td>welcome! thi repositori contain the sourc code...</td>\n",
       "    </tr>\n",
       "    <tr>\n",
       "      <th>Ruby</th>\n",
       "      <td>cssonly chat truly monstrous async web chat us...</td>\n",
       "      <td>CSS-Only Chat A truly monstrous async web chat...</td>\n",
       "      <td>CSS-Only Chat\\nA truly monstrous async web cha...</td>\n",
       "      <td>css-onli chat A truli monstrou async web chat ...</td>\n",
       "    </tr>\n",
       "    <tr>\n",
       "      <th>Vue</th>\n",
       "      <td>beautifully simple clicktocopy css effects htt...</td>\n",
       "      <td>Beautifully simple click-to-copy CSS effect ht...</td>\n",
       "      <td>Beautifully simple click-to-copy CSS effects\\n...</td>\n",
       "      <td>beauti simpl click-to-copi css effect https://...</td>\n",
       "    </tr>\n",
       "    <tr>\n",
       "      <th>Dart</th>\n",
       "      <td>welcome code repository flutter web repository...</td>\n",
       "      <td>Welcome to the code repository for Flutter for...</td>\n",
       "      <td>Welcome to the code repository for Flutter for...</td>\n",
       "      <td>welcom to the code repositori for flutter for ...</td>\n",
       "    </tr>\n",
       "  </tbody>\n",
       "</table>\n",
       "</div>"
      ],
      "text/plain": [
       "                                                      clean  \\\n",
       "language                                                      \n",
       "C++       welcome repository contains source code window...   \n",
       "Ruby      cssonly chat truly monstrous async web chat us...   \n",
       "Vue       beautifully simple clicktocopy css effects htt...   \n",
       "Dart      welcome code repository flutter web repository...   \n",
       "\n",
       "                                                 lemmatized  \\\n",
       "language                                                      \n",
       "C++       Welcome! This repository contains the source c...   \n",
       "Ruby      CSS-Only Chat A truly monstrous async web chat...   \n",
       "Vue       Beautifully simple click-to-copy CSS effect ht...   \n",
       "Dart      Welcome to the code repository for Flutter for...   \n",
       "\n",
       "                                                   original  \\\n",
       "language                                                      \n",
       "C++       Welcome! This repository contains the source c...   \n",
       "Ruby      CSS-Only Chat\\nA truly monstrous async web cha...   \n",
       "Vue       Beautifully simple click-to-copy CSS effects\\n...   \n",
       "Dart      Welcome to the code repository for Flutter for...   \n",
       "\n",
       "                                                    stemmed  \n",
       "language                                                     \n",
       "C++       welcome! thi repositori contain the sourc code...  \n",
       "Ruby      css-onli chat A truli monstrou async web chat ...  \n",
       "Vue       beauti simpl click-to-copi css effect https://...  \n",
       "Dart      welcom to the code repositori for flutter for ...  "
      ]
     },
     "execution_count": 8,
     "metadata": {},
     "output_type": "execute_result"
    }
   ],
   "source": [
    "get_git_df(gits)"
   ]
  },
  {
   "cell_type": "code",
   "execution_count": null,
   "metadata": {},
   "outputs": [],
   "source": []
  }
 ],
 "metadata": {
  "kernelspec": {
   "display_name": "Python 3",
   "language": "python",
   "name": "python3"
  },
  "language_info": {
   "codemirror_mode": {
    "name": "ipython",
    "version": 3
   },
   "file_extension": ".py",
   "mimetype": "text/x-python",
   "name": "python",
   "nbconvert_exporter": "python",
   "pygments_lexer": "ipython3",
   "version": "3.7.1"
  }
 },
 "nbformat": 4,
 "nbformat_minor": 2
}
